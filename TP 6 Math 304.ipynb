{
 "cells": [
  {
   "cell_type": "code",
   "execution_count": 1,
   "id": "f2f7a167",
   "metadata": {},
   "outputs": [],
   "source": [
    "%display latex\n",
    "\n",
    "import numpy as np\n",
    "import matplotlib.pyplot as plt\n",
    "from scipy.integrate import quad"
   ]
  },
  {
   "cell_type": "markdown",
   "id": "94a08887",
   "metadata": {},
   "source": [
    "Auteur: Pablo DI MUZIO"
   ]
  },
  {
   "cell_type": "markdown",
   "id": "5ea3c152",
   "metadata": {},
   "source": [
    "# TP6: Matrices, système linéaire et calcul intégral\n",
    "On fait le choix d'utiliser le moteur latex de Sage tout en écrivant le code en numpy natif."
   ]
  },
  {
   "cell_type": "markdown",
   "id": "140f58b5",
   "metadata": {},
   "source": [
    "## Exercice 1:"
   ]
  },
  {
   "cell_type": "code",
   "execution_count": 2,
   "id": "d8de54a1",
   "metadata": {},
   "outputs": [],
   "source": [
    "def LU(M):\n",
    "    \n",
    "    n = len(M)\n",
    "    L = np.identity(n)\n",
    "    U = np.zeros((n, n))\n",
    "    \n",
    "    # On commence par vérifier l'inversibilité de la matrice:\n",
    "    if np.linalg.det(M) == 0:\n",
    "        return np.zeros((n,n)), np.zeros((n,n)), False\n",
    "\n",
    "    for i in range(n):\n",
    "        for j in range(i, n):\n",
    "            U[i, j] = M[i, j] - sum(L[i, k] * U[k, j] for k in range(i))\n",
    "        for j in range(i, n):\n",
    "            if i == j:\n",
    "                L[i, j] = 1\n",
    "            else:\n",
    "                L[j, i] = (M[j, i] - sum(L[j, k] * U[k, i] for k in range(i))) / U[i, i]\n",
    "    return L, U, True"
   ]
  },
  {
   "cell_type": "code",
   "execution_count": 3,
   "id": "02ccec5a",
   "metadata": {},
   "outputs": [
    {
     "data": {
      "text/html": [
       "<html><script type=\"math/tex; mode=display\">\\newcommand{\\Bold}[1]{\\mathbf{#1}}\\left(\\left(\\begin{array}{rrr}\n",
       "1 & 0 & 0 \\\\\n",
       "1 & 1 & 0 \\\\\n",
       "0 & 1 & 1\n",
       "\\end{array}\\right), \\left(\\begin{array}{rrr}\n",
       "1 & 1 & 1 \\\\\n",
       "0 & 2 & 1 \\\\\n",
       "0 & 0 & -1\n",
       "\\end{array}\\right), \\mathrm{True}\\right)</script></html>"
      ],
      "text/latex": [
       "$$\\newcommand{\\Bold}[1]{\\mathbf{#1}}\\left(\\left(\\begin{array}{rrr}\n",
       "1 & 0 & 0 \\\\\n",
       "1 & 1 & 0 \\\\\n",
       "0 & 1 & 1\n",
       "\\end{array}\\right), \\left(\\begin{array}{rrr}\n",
       "1 & 1 & 1 \\\\\n",
       "0 & 2 & 1 \\\\\n",
       "0 & 0 & -1\n",
       "\\end{array}\\right), \\mathrm{True}\\right)$$"
      ],
      "text/plain": [
       "(\n",
       "[1 0 0]  [ 1  1  1]      \n",
       "[1 1 0]  [ 0  2  1]      \n",
       "[0 1 1], [ 0  0 -1], True\n",
       ")"
      ]
     },
     "execution_count": 3,
     "metadata": {},
     "output_type": "execute_result"
    }
   ],
   "source": [
    "M = np.array([[1,1,1], [1,3,2], [0,2,0]])\n",
    "Matrix(QQ,LU(M)[0]),Matrix(QQ,LU(M)[1]), LU(M)[2]"
   ]
  },
  {
   "cell_type": "markdown",
   "id": "1350744a",
   "metadata": {},
   "source": [
    "## Exercice 2:"
   ]
  },
  {
   "cell_type": "code",
   "execution_count": 4,
   "id": "36e78f7f",
   "metadata": {},
   "outputs": [
    {
     "data": {
      "image/png": "[encoded data removed]",
      "text/plain": [
       "<Figure size 432x288 with 1 Axes>"
      ]
     },
     "metadata": {
      "needs_background": "light"
     },
     "output_type": "display_data"
    }
   ],
   "source": [
    "A = np.array([[0, 1/3], [-1/7, 0]])\n",
    "B = np.array([[2/3], [-5/7]])\n",
    "S = np.array([[9/22], [-17/22]])\n",
    "X_0 = np.array([[0], [0]])\n",
    "\n",
    "xk = []\n",
    "yk = []\n",
    "\n",
    "X_k = X_0\n",
    "for k in range(10):\n",
    "    xk.append(k)\n",
    "    yk.append(np.linalg.norm(X_k - S))\n",
    "    X_k = np.dot(A, X_k) + B\n",
    "\n",
    "plt.plot(xk, yk)\n",
    "plt.xlabel('k')\n",
    "plt.ylabel('E_k')\n",
    "plt.title('Convergence de la séquence')\n",
    "plt.grid(True)\n",
    "plt.show()"
   ]
  },
  {
   "cell_type": "markdown",
   "id": "deaeddca",
   "metadata": {},
   "source": [
    "On remarque que dès le rang 4, on a $E_k < 0.01$, ce qui nous montre que l'approximation se fait très rapidement."
   ]
  },
  {
   "cell_type": "markdown",
   "id": "4991437a",
   "metadata": {},
   "source": [
    "## Exercice 3:"
   ]
  },
  {
   "cell_type": "markdown",
   "id": "ad37b040",
   "metadata": {},
   "source": [
    "1. Création de la fonction `f`"
   ]
  },
  {
   "cell_type": "code",
   "execution_count": 5,
   "id": "3da3c0d6",
   "metadata": {},
   "outputs": [],
   "source": [
    "def f(x):\n",
    "    return np.exp(x) * np.sin(x)"
   ]
  },
  {
   "cell_type": "markdown",
   "id": "dee03f94",
   "metadata": {},
   "source": [
    "2. Création de la fonction `trapèze`"
   ]
  },
  {
   "cell_type": "code",
   "execution_count": 6,
   "id": "b5f91da7",
   "metadata": {},
   "outputs": [],
   "source": [
    "def trapeze(g, a, b, N):\n",
    "    h = (b - a) / N\n",
    "    I = (g(a) + g(b)) / 2\n",
    "    for i in range(1, N):\n",
    "        x = a + i * h\n",
    "        I += g(x)\n",
    "    I *= h\n",
    "    return I"
   ]
  },
  {
   "cell_type": "markdown",
   "id": "600679fc",
   "metadata": {},
   "source": [
    "3. Création de la fonction `testtrapeze`"
   ]
  },
  {
   "cell_type": "code",
   "execution_count": 7,
   "id": "84dd29a1",
   "metadata": {},
   "outputs": [],
   "source": [
    "def testtrapeze(g, a, b, eps):\n",
    "    I, _ = quad(g, a, b)\n",
    "    n = 1\n",
    "    Iapp = trapeze(g, a, b, n)\n",
    "    while abs(I - Iapp) > eps:\n",
    "        n += 1\n",
    "        Iapp = trapeze(g, a, b, n)\n",
    "    return Iapp, I, abs(I - Iapp), n"
   ]
  },
  {
   "cell_type": "markdown",
   "id": "0f0c0784",
   "metadata": {},
   "source": [
    "4. Test de la fonction"
   ]
  },
  {
   "cell_type": "code",
   "execution_count": 8,
   "id": "930d9ec2",
   "metadata": {},
   "outputs": [
    {
     "data": {
      "text/html": [
       "<html><script type=\"math/tex; mode=display\">\\newcommand{\\Bold}[1]{\\mathbf{#1}}\\left(0.1717754458371399, 0.17177502331472286, \\verb|4.225224170539832e-07|, 247\\right)</script></html>"
      ],
      "text/latex": [
       "$$\\newcommand{\\Bold}[1]{\\mathbf{#1}}\\left(0.1717754458371399, 0.17177502331472286, \\verb|4.225224170539832e-07|, 247\\right)$$"
      ],
      "text/plain": [
       "(0.1717754458371399, 0.17177502331472286, 4.225224170539832e-07, 247)"
      ]
     },
     "execution_count": 8,
     "metadata": {},
     "output_type": "execute_result"
    }
   ],
   "source": [
    "epsilon = 4.23*10**(-7)\n",
    "testtrapeze(f, 0, 0.5, epsilon)"
   ]
  },
  {
   "cell_type": "markdown",
   "id": "033200bc",
   "metadata": {},
   "source": [
    "5. (Bonus) Déclaration des fonctions `simpson`, `rectM` et de `testsimpson`, `testrectM`"
   ]
  },
  {
   "cell_type": "code",
   "execution_count": 9,
   "id": "ef0996ba",
   "metadata": {},
   "outputs": [],
   "source": [
    "def simpson(g, a, b, N):\n",
    "    h = (b - a) / N\n",
    "    I = g(a) + g(b)\n",
    "    for i in range(1, N, 2):\n",
    "        x = a + i * h\n",
    "        I += 4 * g(x)\n",
    "    for i in range(2, N, 2):\n",
    "        x = a + i * h\n",
    "        I += 2 * g(x)\n",
    "    I *= h / 3\n",
    "    return I\n",
    "\n",
    "def testsimpson(g, a, b, eps):\n",
    "    I, _ = quad(g, a, b)\n",
    "    n = 1\n",
    "    Iapp = simpson(g, a, b, n)\n",
    "    while abs(I - Iapp) > eps:\n",
    "        n += 1\n",
    "        Iapp = simpson(g, a, b, n)\n",
    "    return Iapp, I, abs(I - Iapp), n\n",
    "\n",
    "def rectM(g, a, b, N):\n",
    "    h = (b - a) / N\n",
    "    I = 0\n",
    "    for i in range(N):\n",
    "        x = a + (i + 0.5) * h\n",
    "        I += g(x)\n",
    "    I *= h\n",
    "    return I\n",
    "\n",
    "def testrectM(g, a, b, eps):\n",
    "    I, _ = quad(g, a, b)\n",
    "    n = 1\n",
    "    Iapp = rectM(g, a, b, n)\n",
    "    while abs(I - Iapp) > eps:\n",
    "        n += 1\n",
    "        Iapp = rectM(g, a, b, n)\n",
    "    return Iapp, I, abs(I - Iapp), n"
   ]
  },
  {
   "cell_type": "markdown",
   "id": "3a0f3305",
   "metadata": {},
   "source": [
    "6. (Bonus) Test des fonctions dans les mêmes conditions que pour `trapeze`."
   ]
  },
  {
   "cell_type": "code",
   "execution_count": 10,
   "id": "8b74221b",
   "metadata": {},
   "outputs": [
    {
     "data": {
      "text/html": [
       "<html><script type=\"math/tex; mode=display\">\\newcommand{\\Bold}[1]{\\mathbf{#1}}\\left(0.17177460245476248, 0.17177502331472286, \\verb|4.2085996038165874e-07|, 175\\right)</script></html>"
      ],
      "text/latex": [
       "$$\\newcommand{\\Bold}[1]{\\mathbf{#1}}\\left(0.17177460245476248, 0.17177502331472286, \\verb|4.2085996038165874e-07|, 175\\right)$$"
      ],
      "text/plain": [
       "(0.17177460245476248, 0.17177502331472286, 4.2085996038165874e-07, 175)"
      ]
     },
     "execution_count": 10,
     "metadata": {},
     "output_type": "execute_result"
    }
   ],
   "source": [
    "testrectM(f, 0, 0.5, epsilon)"
   ]
  },
  {
   "cell_type": "code",
   "execution_count": 11,
   "id": "8b4488e2",
   "metadata": {},
   "outputs": [
    {
     "data": {
      "text/html": [
       "<html><script type=\"math/tex; mode=display\">\\newcommand{\\Bold}[1]{\\mathbf{#1}}\\left(0.17177484032465953, 0.17177502331472286, \\verb|1.8299006332433976e-07|, 6\\right)</script></html>"
      ],
      "text/latex": [
       "$$\\newcommand{\\Bold}[1]{\\mathbf{#1}}\\left(0.17177484032465953, 0.17177502331472286, \\verb|1.8299006332433976e-07|, 6\\right)$$"
      ],
      "text/plain": [
       "(0.17177484032465953, 0.17177502331472286, 1.8299006332433976e-07, 6)"
      ]
     },
     "execution_count": 11,
     "metadata": {},
     "output_type": "execute_result"
    }
   ],
   "source": [
    "testsimpson(f, 0, 0.5, epsilon)"
   ]
  },
  {
   "cell_type": "markdown",
   "id": "cda3213c",
   "metadata": {},
   "source": [
    "On se rend compte de l'efficacité de l'approximation de Simpson puisqu'elle nous permet de nous approcher au même epsilon environ 41 fois plus rapidement. Là où l'approximation des rectangles au milieu ne nous sauve \"que\" 72 itérations. "
   ]
  }
 ],
 "metadata": {
  "kernelspec": {
   "display_name": "SageMath 9.5",
   "language": "sage",
   "name": "sagemath"
  },
  "language_info": {
   "codemirror_mode": {
    "name": "ipython",
    "version": 3
   },
   "file_extension": ".py",
   "mimetype": "text/x-python",
   "name": "python",
   "nbconvert_exporter": "python",
   "pygments_lexer": "ipython3",
   "version": "3.10.12"
  }
 },
 "nbformat": 4,
 "nbformat_minor": 5
}
